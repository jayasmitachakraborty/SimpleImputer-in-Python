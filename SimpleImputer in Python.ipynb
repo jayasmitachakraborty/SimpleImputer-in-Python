{
 "cells": [
  {
   "cell_type": "code",
   "execution_count": 4,
   "metadata": {},
   "outputs": [],
   "source": [
    "#importing dataset\n",
    "# replace ... with the correct path\n",
    "\n",
    "import pandas as pd\n",
    "import numpy as np\n",
    "df = pd.read_csv('.../world_bank_international_arrivals_islands.csv')\n",
    "df.replace('.', np.nan, inplace=True)"
   ]
  },
  {
   "cell_type": "code",
   "execution_count": 5,
   "metadata": {},
   "outputs": [],
   "source": [
    "#importing imputer\n",
    "\n",
    "from sklearn.impute import SimpleImputer\n",
    "imputer = SimpleImputer(strategy='mean')\n",
    "\n",
    "\n",
    "# looping through the nations in the dataset to make sure \"mean\" is applied country-wise\n",
    "#creates 27 files - 1 for each country\n",
    "start = 0\n",
    "stop = df.shape[0]\n",
    "country = 0\n",
    "while start<stop:\n",
    "    country = country + 1\n",
    "    df_ = df[start:start+13]\n",
    "\n",
    "    imputer.fit(df_)\n",
    "    df2 = pd.DataFrame(imputer.transform(df_))\n",
    "    file_name = str(country) + \".csv\"\n",
    "    df2.to_csv(file_name)\n",
    "    start = start+13\n",
    "    \n",
    "#this solution still has missing values for cases where the entire column was empty"
   ]
  },
  {
   "cell_type": "code",
   "execution_count": 6,
   "metadata": {},
   "outputs": [],
   "source": [
    "#another strategy is to use median\n",
    "#but is it effective? will it give correct estimates for the missing values?\n",
    "\n",
    "df2 = pd.read_csv('.../world_bank_international_arrivals_islands.csv')\n",
    "df2.replace('.', np.nan, inplace=True)\n",
    "df2.replace(' ', np.nan, inplace=True)\n",
    "\n",
    "from sklearn.impute import SimpleImputer\n",
    "imputer = SimpleImputer(strategy='median')\n",
    "imputer.fit(df2)\n",
    "df2 = pd.DataFrame(imputer.transform(df2))\n",
    "df2.to_csv('final.csv')"
   ]
  },
  {
   "cell_type": "code",
   "execution_count": 7,
   "metadata": {},
   "outputs": [],
   "source": []
  },
  {
   "cell_type": "code",
   "execution_count": null,
   "metadata": {},
   "outputs": [],
   "source": []
  }
 ],
 "metadata": {
  "kernelspec": {
   "display_name": "Python 3",
   "language": "python",
   "name": "python3"
  },
  "language_info": {
   "codemirror_mode": {
    "name": "ipython",
    "version": 3
   },
   "file_extension": ".py",
   "mimetype": "text/x-python",
   "name": "python",
   "nbconvert_exporter": "python",
   "pygments_lexer": "ipython3",
   "version": "3.8.5"
  }
 },
 "nbformat": 4,
 "nbformat_minor": 4
}
